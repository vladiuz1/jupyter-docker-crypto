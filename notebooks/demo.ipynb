{
 "cells": [
  {
   "cell_type": "markdown",
   "id": "mechanical-tsunami",
   "metadata": {},
   "source": [
    "# Working directory\n",
    "\n",
    "The notebooks that you save here persist in the host filesystem. "
   ]
  },
  {
   "cell_type": "code",
   "execution_count": 14,
   "id": "complicated-lighting",
   "metadata": {},
   "outputs": [
    {
     "name": "stdout",
     "output_type": "stream",
     "text": [
      "/home/jovyan/notebooks\n",
      "\t .ipynb_checkpoints\n",
      "\t demo.ipynb\n"
     ]
    }
   ],
   "source": [
    "import os\n",
    "print(os.getcwd())\n",
    "for d in os.listdir():\n",
    "    print(f'\\t {d}')"
   ]
  },
  {
   "cell_type": "markdown",
   "id": "outside-message",
   "metadata": {},
   "source": [
    "# requirements.txt\n",
    "\n",
    "The `requirements.txt` file contains list of modules you want to use in your notebook. The demo `requirements.txt` has flask module, check if below runs without errors:"
   ]
  },
  {
   "cell_type": "code",
   "execution_count": 24,
   "id": "pursuant-february",
   "metadata": {},
   "outputs": [],
   "source": [
    "import requests, json, bitcoinlib, hashlib, binascii, base58\n",
    "from bitcoinlib.mnemonic import Mnemonic\n",
    "from bitcoinlib.keys import HDKey\n",
    "from bitcoinlib.networks import Network, NETWORK_DEFINITIONS\n",
    "from bitcoinlib.encoding import to_hexstring\n",
    "from eth_keys import keys\n",
    "from eth_utils import decode_hex\n",
    "import base58\n"
   ]
  },
  {
   "cell_type": "markdown",
   "id": "07f13a17",
   "metadata": {},
   "source": [
    "# bitcoinlib example"
   ]
  },
  {
   "cell_type": "code",
   "execution_count": 31,
   "id": "sporting-noise",
   "metadata": {},
   "outputs": [
    {
     "name": "stdout",
     "output_type": "stream",
     "text": [
      "{\n",
      "  \"mnemonic\": \"visit upset truly street segment predict follow dragon inside wealth cruise puzzle parent license hello online width cry lawn heavy jazz sorry acquire maid\",\n",
      "  \"key\": {\n",
      "    \"network\": \"bitcoin\",\n",
      "    \"key_format\": \"bin\",\n",
      "    \"compressed\": true,\n",
      "    \"is_private\": true,\n",
      "    \"public_hex\": \"02a9e01f297b19dcc16a2e14dab8ad566110aabaa264bfb8a5b3e99e44cdaa4d45\",\n",
      "    \"public_uncompressed_hex\": \"04a9e01f297b19dcc16a2e14dab8ad566110aabaa264bfb8a5b3e99e44cdaa4d455d9a9feded93accec3116e1126903a48b817ceaf2eb922e4b92bc59349641a1c\",\n",
      "    \"hash160\": \"7eedfb90f23a8508fdc159f373239401c11822dc\",\n",
      "    \"address\": \"1Ca9EVqRpJmXpBWww5W7mCBvvpC9FCrkfQ\",\n",
      "    \"point_x\": 76836860225540992604741773344723379048390003955347471613968434104822953299269,\n",
      "    \"point_y\": 42338293158415908228958041325471425744798042498462449924919830343000573352476,\n",
      "    \"child_index\": 1,\n",
      "    \"depth\": 5,\n",
      "    \"extended_wif_public\": \"xpub6FnMASofBJNW8JGZipaDFNWkkKQ93kVP7n2kfrVinm7LpCDUCTmEoTHAMutGkenKXe55Zkhe8uz11RSuK4zzWjte8xBi2Tq3LrSeyEh5Qrb\",\n",
      "    \"eth_pub_key\": \"0xa9e01f297b19dcc16a2e14dab8ad566110aabaa264bfb8a5b3e99e44cdaa4d455d9a9feded93accec3116e1126903a48b817ceaf2eb922e4b92bc59349641a1c\",\n",
      "    \"eth_address\": \"0x6bac3B1D720551aa77bC6f16Bf2f4d6E769704ac\"\n",
      "  },\n",
      "  \"private\": {\n",
      "    \"wif\": \"xprvA2nzkwGmLvpCupC6co3CtEa2CHZeeHmXkZ79sU67ERaMwPtKevSzFexgWe39mpGH7yqpUWmy7dWQKMvptDwWJNDfo3dZDU2G5ohUBYRB7rh\",\n",
      "    \"hex\": \"0x3e5a2970c56b74d27789b0caafd3e3b2bcf53cfcb402a5a4a0ae499504bf08bb\",\n",
      "    \"eth\": \"0x3e5a2970c56b74d27789b0caafd3e3b2bcf53cfcb402a5a4a0ae499504bf08bb\"\n",
      "  }\n",
      "}\n"
     ]
    }
   ],
   "source": [
    "def new_mnemonic():\n",
    "    mnemonic = Mnemonic().generate(8*32)\n",
    "    return {'mnemonic':mnemonic}\n",
    "\n",
    "def subkey(mnemonic = None,\n",
    "           path = \"m/44'/0'/0'/0/1\", network = 'bitcoin'):\n",
    "    if not mnemonic:\n",
    "        mnemonic = new_mnemonic().get('mnemonic')\n",
    "    key = HDKey().from_passphrase(mnemonic)\n",
    "    subkey = key.subkey_for_path(path,network)\n",
    "    key_dict = subkey.as_dict()\n",
    "    first_encode = base58.b58decode(subkey.wif_private())\n",
    "    private_key_full = binascii.hexlify(first_encode)\n",
    "    private_key_hex = '0x{}'.format(private_key_full[2:-8][-64:].decode('utf-8'))\n",
    "    eth_priv_key = keys.PrivateKey(decode_hex(private_key_hex))\n",
    "    eth_pub_key = eth_priv_key.public_key\n",
    "    eth_address = eth_pub_key.to_checksum_address()\n",
    "    key_dict['eth_pub_key'] = str(eth_pub_key)\n",
    "    key_dict['eth_address'] = eth_address\n",
    "    return {'mnemonic':mnemonic,\n",
    "                    'key': key_dict,\n",
    "                    'private': {\n",
    "                        'wif': subkey.wif_private(),\n",
    "                        'hex': private_key_hex,\n",
    "                        'eth': str(eth_priv_key),\n",
    "                    }\n",
    "                }\n",
    "print(json.dumps(subkey(),indent=2))"
   ]
  },
  {
   "cell_type": "markdown",
   "id": "6a46bc67",
   "metadata": {},
   "source": [
    "# ethereum example"
   ]
  },
  {
   "cell_type": "code",
   "execution_count": 13,
   "id": "280282a1",
   "metadata": {},
   "outputs": [
    {
     "name": "stdout",
     "output_type": "stream",
     "text": [
      "b'e\\xe0\\xbd|C\\x86m\\x14\\x9c\\x195\\xa5kx\\xa0\\x1b**\\xf6G}y(E\\xc1\\xcc\\xa8\\x93\\xcbdm\\xab'\n"
     ]
    }
   ],
   "source": [
    "import json\n",
    "import web3\n",
    "from eth_account import Account\n",
    "import ssl, getpass\n",
    "from eth_keys import keys\n",
    "account = Account.create()\n",
    "print(account.privateKey)"
   ]
  },
  {
   "cell_type": "code",
   "execution_count": null,
   "id": "03c2eaeb",
   "metadata": {},
   "outputs": [],
   "source": []
  }
 ],
 "metadata": {
  "kernelspec": {
   "display_name": "Python 3",
   "language": "python",
   "name": "python3"
  },
  "language_info": {
   "codemirror_mode": {
    "name": "ipython",
    "version": 3
   },
   "file_extension": ".py",
   "mimetype": "text/x-python",
   "name": "python",
   "nbconvert_exporter": "python",
   "pygments_lexer": "ipython3",
   "version": "3.8.8"
  }
 },
 "nbformat": 4,
 "nbformat_minor": 5
}
